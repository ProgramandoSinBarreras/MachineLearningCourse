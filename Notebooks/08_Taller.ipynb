{
  "nbformat": 4,
  "nbformat_minor": 0,
  "metadata": {
    "colab": {
      "provenance": []
    },
    "kernelspec": {
      "name": "python3",
      "display_name": "Python 3"
    },
    "language_info": {
      "name": "python"
    }
  },
  "cells": [
    {
      "cell_type": "markdown",
      "source": [
        "## Ejercicios 01"
      ],
      "metadata": {
        "id": "cD1TUqTJdHAC"
      }
    },
    {
      "cell_type": "markdown",
      "source": [
        "**Calculo de Edad en Días**\n",
        "\n",
        "\n",
        "Crea una variable llamada edad y asígnale tu edad en años. Calcula cuántos días has vivido (aproximadamente, sin contar años bisiestos) y guarda el resultado en una nueva variable llamada edad_dias. Imprime el resultado."
      ],
      "metadata": {
        "id": "oIoBGeTJcoLa"
      }
    },
    {
      "cell_type": "markdown",
      "source": [
        "**Conversión de Unidades**\n",
        "\n",
        "\n",
        "Crea un programa que convierta una cantidad dada de metros a centímetros y milímetros. Solicita al usuario que ingrese la cantidad en metros."
      ],
      "metadata": {
        "id": "9QfksDGWctTM"
      }
    },
    {
      "cell_type": "markdown",
      "source": [
        "**Lista de Calificaciones**\n",
        "\n",
        "Crea una lista de calificaciones (números entre 0 y 100) y encuentra el promedio de esas calificaciones."
      ],
      "metadata": {
        "id": "UpVFpnRnc1Uu"
      }
    },
    {
      "cell_type": "markdown",
      "source": [
        "**Diccionario de Productos y Precios**\n",
        "\n",
        "\n",
        "Crea un diccionario donde las claves sean nombres de productos (e.g., \"manzana\", \"banana\", \"naranja\") y los valores sean sus precios. Calcula el precio total de una lista de productos dada."
      ],
      "metadata": {
        "id": "LqJI88h-c4Am"
      }
    },
    {
      "cell_type": "markdown",
      "source": [
        "**Histograma de Números Aleatorios**\n",
        "\n",
        "Genera 1000 números aleatorios entre 0 y 1 con Numpy y muestra un histograma de estos valores usando Matplotlib."
      ],
      "metadata": {
        "id": "ByUxfD2MdD9h"
      }
    },
    {
      "cell_type": "markdown",
      "source": [
        "## Ejercicios 02"
      ],
      "metadata": {
        "id": "18mVn9NYdJ48"
      }
    },
    {
      "cell_type": "markdown",
      "source": [
        "**Dataset titanic**\n",
        "\n",
        "1.   Cargar el dataset y mostrar las primeras cinco filas.\n",
        "2.   Mostrar la información general del dataset y estadísticas descriptivas.\n",
        "3.   Verifica si hay valores faltantes en el dataset.\n",
        "4.   Llena los valores faltantes en la columna Age con la mediana de esa columna.\n",
        "5.   Elimina las filas donde Cabin tiene valores faltantes.\n",
        "6.   Agrupa los datos por clase (Pclass) y calcula la tarifa promedio (Fare) pagada en cada clase.\n",
        "7.   Agrupa los datos por sexo (Sex) y calcula la edad promedio (Age) de los pasajeros.\n",
        "8.   Crea una columna FamilySize que sea la suma de SibSp y Parch.\n",
        "9.   Crea una columna IsMinor que indique si el pasajero es menor de 18 años."
      ],
      "metadata": {
        "id": "PbD3vqdudMdn"
      }
    },
    {
      "cell_type": "markdown",
      "source": [
        "## Ejercicios 03"
      ],
      "metadata": {
        "id": "gqneoNcneI_I"
      }
    },
    {
      "cell_type": "markdown",
      "source": [
        "**Dataset Housing**\n",
        "\n",
        "1.   Examina la estructura del dataset: número de filas y columnas, tipos de datos, y estadísticas básicas de cada variable.\n",
        "\n",
        "\n",
        "2.  Visualiza la distribución de la variable objetivo MedHouseVal (valor medio de la vivienda).\n",
        "3. Realiza un análisis de correlación para identificar qué variables tienen una relación más fuerte con la variable objetivo.\n",
        "\n",
        "\n",
        "4. Maneja los valores faltantes en el dataset (si existen).\n",
        "5. Convierte variables categóricas (como ocean_proximity) en variables numéricas usando métodos de codificación.\n",
        "6. Separa las características (X) de la variable objetivo (y).\n",
        "7. Divide el dataset en conjuntos de entrenamiento y prueba.\n",
        "\n",
        "\n",
        "8. Aplica escalado a las características (X) para estandarizarlas antes de entrenar los modelos.\n",
        "\n",
        "\n",
        "9. Entrena un modelo de regresión lineal para predecir MedHouseVal.\n",
        "10. Entrena un árbol de decisión para regresión y ajusta el parámetro de profundidad del árbol para mejorar el rendimiento.\n",
        "11. Entrena un modelo de máquinas de soporte vectorial (SVM) para regresión, experimentando con diferentes valores del parámetro C.\n",
        "\n",
        "\n",
        "12. Calcula el error cuadrático medio (MSE) y el coeficiente de determinación (R²) en el conjunto de prueba para cada modelo.\n",
        "13. Compara los resultados de los tres modelos en términos de MSE y R².\n",
        "\n",
        "\n",
        "14. Compara los rendimientos de cada modelo y analiza cuál tuvo mejor desempeño en términos de precisión y error.\n",
        "15. Reflexiona sobre las posibles razones de las diferencias en rendimiento entre los modelos, considerando características como la complejidad del modelo y la naturaleza de los datos.\n",
        "\n",
        "\n"
      ],
      "metadata": {
        "id": "rAVj2SIgeLqF"
      }
    },
    {
      "cell_type": "code",
      "source": [],
      "metadata": {
        "id": "dpxdIyssfjIv"
      },
      "execution_count": null,
      "outputs": []
    }
  ]
}